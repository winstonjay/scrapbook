{
 "cells": [
  {
   "cell_type": "markdown",
   "metadata": {},
   "source": [
    "# Degrees of separation between Wikipedia articles.\n",
    "\n",
    "The following looks at datasets of link paths between wikipedia articles. Theese are as following:\n",
    "\n",
    "* **random500**: 500 random start nodes generated from WikiMedia API. All end on 'homunculus'.\n",
    "* **top50**: 50 start nodes from wikipedias listing of their top most visited pages at the time of writing this. All end on 'homunculus'."
   ]
  },
  {
   "cell_type": "code",
   "execution_count": 1,
   "metadata": {},
   "outputs": [],
   "source": [
    "%matplotlib inline\n",
    "import pandas as pd\n",
    "import matplotlib.pyplot as plt\n",
    "\n",
    "from wikigraph import WikiGraph\n",
    "\n",
    "# load dataset.\n",
    "random500 = pd.read_csv(\"data/random500.csv\").set_index(\"start\")\n",
    "top50 = pd.read_csv(\"data/top50.csv\").set_index(\"start\")"
   ]
  },
  {
   "cell_type": "markdown",
   "metadata": {},
   "source": [
    "### Mean path length for each data set?"
   ]
  },
  {
   "cell_type": "code",
   "execution_count": 2,
   "metadata": {},
   "outputs": [
    {
     "name": "stdout",
     "output_type": "stream",
     "text": [
      "mean:\n",
      "    random500 = 3.92\n",
      "    top50     = 3.02\n",
      "\n"
     ]
    }
   ],
   "source": [
    "print('''mean:\n",
    "    random500 = {:.2f}\n",
    "    top50     = {:.2f}\n",
    "'''.format(random500['degree'].mean(), top50['degree'].mean()))"
   ]
  },
  {
   "cell_type": "markdown",
   "metadata": {},
   "source": [
    "Not supprisingly `top50` has a lower degree of separation."
   ]
  },
  {
   "cell_type": "code",
   "execution_count": 3,
   "metadata": {},
   "outputs": [
    {
     "data": {
      "text/plain": [
       "<matplotlib.axes._subplots.AxesSubplot at 0x10a46d390>"
      ]
     },
     "execution_count": 3,
     "metadata": {},
     "output_type": "execute_result"
    },
    {
     "data": {
      "image/png": "[encoded data removed]",
      "text/plain": [
       "<matplotlib.figure.Figure at 0x10a6d4160>"
      ]
     },
     "metadata": {},
     "output_type": "display_data"
    }
   ],
   "source": [
    "fig, (ax1, ax2) = plt.subplots(1,2)\n",
    "plt.suptitle('Path length', fontsize=16)\n",
    "top50.plot.hist(ax=ax1, title=\"top50\", bins=3, xlim=(0, 7), color='orange')\n",
    "random500.plot.hist(ax=ax2, title=\"random500\", bins=5, xlim=(0, 7))"
   ]
  },
  {
   "cell_type": "code",
   "execution_count": 4,
   "metadata": {},
   "outputs": [
    {
     "data": {
      "text/html": [
       "<div>\n",
       "<style scoped>\n",
       "    .dataframe tbody tr th:only-of-type {\n",
       "        vertical-align: middle;\n",
       "    }\n",
       "\n",
       "    .dataframe tbody tr th {\n",
       "        vertical-align: top;\n",
       "    }\n",
       "\n",
       "    .dataframe thead th {\n",
       "        text-align: right;\n",
       "    }\n",
       "</style>\n",
       "<table border=\"1\" class=\"dataframe\">\n",
       "  <thead>\n",
       "    <tr style=\"text-align: right;\">\n",
       "      <th></th>\n",
       "      <th>end</th>\n",
       "      <th>path</th>\n",
       "      <th>degree</th>\n",
       "    </tr>\n",
       "    <tr>\n",
       "      <th>start</th>\n",
       "      <th></th>\n",
       "      <th></th>\n",
       "      <th></th>\n",
       "    </tr>\n",
       "  </thead>\n",
       "  <tbody>\n",
       "    <tr>\n",
       "      <th>Sex</th>\n",
       "      <td>Homunculus</td>\n",
       "      <td>Sex-&gt;Sperm-&gt;Homunculus</td>\n",
       "      <td>2</td>\n",
       "    </tr>\n",
       "    <tr>\n",
       "      <th>Albert Einstein</th>\n",
       "      <td>Homunculus</td>\n",
       "      <td>Albert Einstein-&gt;Edgar Adrian-&gt;Homunculus</td>\n",
       "      <td>2</td>\n",
       "    </tr>\n",
       "    <tr>\n",
       "      <th>United States</th>\n",
       "      <td>Homunculus</td>\n",
       "      <td>United States-&gt;Stroke-&gt;Cerebral cortex-&gt;Homunc...</td>\n",
       "      <td>3</td>\n",
       "    </tr>\n",
       "  </tbody>\n",
       "</table>\n",
       "</div>"
      ],
      "text/plain": [
       "                        end  \\\n",
       "start                         \n",
       "Sex              Homunculus   \n",
       "Albert Einstein  Homunculus   \n",
       "United States    Homunculus   \n",
       "\n",
       "                                                              path  degree  \n",
       "start                                                                       \n",
       "Sex                                         Sex->Sperm->Homunculus       2  \n",
       "Albert Einstein          Albert Einstein->Edgar Adrian->Homunculus       2  \n",
       "United States    United States->Stroke->Cerebral cortex->Homunc...       3  "
      ]
     },
     "execution_count": 4,
     "metadata": {},
     "output_type": "execute_result"
    }
   ],
   "source": [
    "top50.nsmallest(3, \"degree\")"
   ]
  },
  {
   "cell_type": "code",
   "execution_count": 5,
   "metadata": {},
   "outputs": [
    {
     "data": {
      "text/html": [
       "<div>\n",
       "<style scoped>\n",
       "    .dataframe tbody tr th:only-of-type {\n",
       "        vertical-align: middle;\n",
       "    }\n",
       "\n",
       "    .dataframe tbody tr th {\n",
       "        vertical-align: top;\n",
       "    }\n",
       "\n",
       "    .dataframe thead th {\n",
       "        text-align: right;\n",
       "    }\n",
       "</style>\n",
       "<table border=\"1\" class=\"dataframe\">\n",
       "  <thead>\n",
       "    <tr style=\"text-align: right;\">\n",
       "      <th></th>\n",
       "      <th>end</th>\n",
       "      <th>path</th>\n",
       "      <th>degree</th>\n",
       "    </tr>\n",
       "    <tr>\n",
       "      <th>start</th>\n",
       "      <th></th>\n",
       "      <th></th>\n",
       "      <th></th>\n",
       "    </tr>\n",
       "  </thead>\n",
       "  <tbody>\n",
       "    <tr>\n",
       "      <th>Kim Kardashian</th>\n",
       "      <td>Homunculus</td>\n",
       "      <td>Kim Kardashian-&gt;Public relations-&gt;Critical the...</td>\n",
       "      <td>4</td>\n",
       "    </tr>\n",
       "    <tr>\n",
       "      <th>List of Presidents of the United States</th>\n",
       "      <td>Homunculus</td>\n",
       "      <td>List of Presidents of the United States-&gt;Donal...</td>\n",
       "      <td>4</td>\n",
       "    </tr>\n",
       "    <tr>\n",
       "      <th>Selena Gomez</th>\n",
       "      <td>Homunculus</td>\n",
       "      <td>Selena Gomez-&gt;The Fundamentals of Caring-&gt;Duch...</td>\n",
       "      <td>4</td>\n",
       "    </tr>\n",
       "  </tbody>\n",
       "</table>\n",
       "</div>"
      ],
      "text/plain": [
       "                                                end  \\\n",
       "start                                                 \n",
       "Kim Kardashian                           Homunculus   \n",
       "List of Presidents of the United States  Homunculus   \n",
       "Selena Gomez                             Homunculus   \n",
       "\n",
       "                                                                                      path  \\\n",
       "start                                                                                        \n",
       "Kim Kardashian                           Kim Kardashian->Public relations->Critical the...   \n",
       "List of Presidents of the United States  List of Presidents of the United States->Donal...   \n",
       "Selena Gomez                             Selena Gomez->The Fundamentals of Caring->Duch...   \n",
       "\n",
       "                                         degree  \n",
       "start                                            \n",
       "Kim Kardashian                                4  \n",
       "List of Presidents of the United States       4  \n",
       "Selena Gomez                                  4  "
      ]
     },
     "execution_count": 5,
     "metadata": {},
     "output_type": "execute_result"
    }
   ],
   "source": [
    "top50.nlargest(3, \"degree\")"
   ]
  },
  {
   "cell_type": "code",
   "execution_count": 6,
   "metadata": {},
   "outputs": [
    {
     "data": {
      "text/html": [
       "<div>\n",
       "<style scoped>\n",
       "    .dataframe tbody tr th:only-of-type {\n",
       "        vertical-align: middle;\n",
       "    }\n",
       "\n",
       "    .dataframe tbody tr th {\n",
       "        vertical-align: top;\n",
       "    }\n",
       "\n",
       "    .dataframe thead th {\n",
       "        text-align: right;\n",
       "    }\n",
       "</style>\n",
       "<table border=\"1\" class=\"dataframe\">\n",
       "  <thead>\n",
       "    <tr style=\"text-align: right;\">\n",
       "      <th></th>\n",
       "      <th>end</th>\n",
       "      <th>path</th>\n",
       "      <th>degree</th>\n",
       "    </tr>\n",
       "    <tr>\n",
       "      <th>start</th>\n",
       "      <th></th>\n",
       "      <th></th>\n",
       "      <th></th>\n",
       "    </tr>\n",
       "  </thead>\n",
       "  <tbody>\n",
       "    <tr>\n",
       "      <th>Good luck charm</th>\n",
       "      <td>Homunculus</td>\n",
       "      <td>Good luck charm-&gt;Mooncalf-&gt;Homunculus</td>\n",
       "      <td>2</td>\n",
       "    </tr>\n",
       "    <tr>\n",
       "      <th>Tetrastrum</th>\n",
       "      <td>Homunculus</td>\n",
       "      <td>Tetrastrum-&gt;Taxonomy (biology)-&gt;History of evo...</td>\n",
       "      <td>3</td>\n",
       "    </tr>\n",
       "    <tr>\n",
       "      <th>R Boötis</th>\n",
       "      <td>Homunculus</td>\n",
       "      <td>R Boötis-&gt;NGC 5248-&gt;Carina Nebula-&gt;Homunculus</td>\n",
       "      <td>3</td>\n",
       "    </tr>\n",
       "  </tbody>\n",
       "</table>\n",
       "</div>"
      ],
      "text/plain": [
       "                        end  \\\n",
       "start                         \n",
       "Good luck charm  Homunculus   \n",
       "Tetrastrum       Homunculus   \n",
       "R Boötis         Homunculus   \n",
       "\n",
       "                                                              path  degree  \n",
       "start                                                                       \n",
       "Good luck charm              Good luck charm->Mooncalf->Homunculus       2  \n",
       "Tetrastrum       Tetrastrum->Taxonomy (biology)->History of evo...       3  \n",
       "R Boötis             R Boötis->NGC 5248->Carina Nebula->Homunculus       3  "
      ]
     },
     "execution_count": 6,
     "metadata": {},
     "output_type": "execute_result"
    }
   ],
   "source": [
    "random500.nsmallest(3, \"degree\")"
   ]
  },
  {
   "cell_type": "code",
   "execution_count": 7,
   "metadata": {},
   "outputs": [
    {
     "data": {
      "text/html": [
       "<div>\n",
       "<style scoped>\n",
       "    .dataframe tbody tr th:only-of-type {\n",
       "        vertical-align: middle;\n",
       "    }\n",
       "\n",
       "    .dataframe tbody tr th {\n",
       "        vertical-align: top;\n",
       "    }\n",
       "\n",
       "    .dataframe thead th {\n",
       "        text-align: right;\n",
       "    }\n",
       "</style>\n",
       "<table border=\"1\" class=\"dataframe\">\n",
       "  <thead>\n",
       "    <tr style=\"text-align: right;\">\n",
       "      <th></th>\n",
       "      <th>end</th>\n",
       "      <th>path</th>\n",
       "      <th>degree</th>\n",
       "    </tr>\n",
       "    <tr>\n",
       "      <th>start</th>\n",
       "      <th></th>\n",
       "      <th></th>\n",
       "      <th></th>\n",
       "    </tr>\n",
       "  </thead>\n",
       "  <tbody>\n",
       "    <tr>\n",
       "      <th>Honoris Crux</th>\n",
       "      <td>Homunculus</td>\n",
       "      <td>Honoris Crux-&gt;Honoris Crux Silver-&gt;Captain (ar...</td>\n",
       "      <td>6</td>\n",
       "    </tr>\n",
       "    <tr>\n",
       "      <th>1962–63 Bahraini Premier League</th>\n",
       "      <td>Homunculus</td>\n",
       "      <td>1962–63 Bahraini Premier League-&gt;2009–10 Bahra...</td>\n",
       "      <td>6</td>\n",
       "    </tr>\n",
       "    <tr>\n",
       "      <th>British Pakistani (disambiguation)</th>\n",
       "      <td>Homunculus</td>\n",
       "      <td>British Pakistani (disambiguation)-&gt;Britons in...</td>\n",
       "      <td>6</td>\n",
       "    </tr>\n",
       "  </tbody>\n",
       "</table>\n",
       "</div>"
      ],
      "text/plain": [
       "                                           end  \\\n",
       "start                                            \n",
       "Honoris Crux                        Homunculus   \n",
       "1962–63 Bahraini Premier League     Homunculus   \n",
       "British Pakistani (disambiguation)  Homunculus   \n",
       "\n",
       "                                                                                 path  \\\n",
       "start                                                                                   \n",
       "Honoris Crux                        Honoris Crux->Honoris Crux Silver->Captain (ar...   \n",
       "1962–63 Bahraini Premier League     1962–63 Bahraini Premier League->2009–10 Bahra...   \n",
       "British Pakistani (disambiguation)  British Pakistani (disambiguation)->Britons in...   \n",
       "\n",
       "                                    degree  \n",
       "start                                       \n",
       "Honoris Crux                             6  \n",
       "1962–63 Bahraini Premier League          6  \n",
       "British Pakistani (disambiguation)       6  "
      ]
     },
     "execution_count": 7,
     "metadata": {},
     "output_type": "execute_result"
    }
   ],
   "source": [
    "random500.nlargest(3, \"degree\")"
   ]
  },
  {
   "cell_type": "markdown",
   "metadata": {},
   "source": [
    "### How does the Homunculus compare to other articles in terms of how many links point to it?"
   ]
  },
  {
   "cell_type": "code",
   "execution_count": 8,
   "metadata": {},
   "outputs": [],
   "source": [
    "wg = WikiGraph()\n",
    "\n",
    "homunculus  = wg.indegree(\"homunculus\")\n",
    "\n",
    "rnd_ind = pd.read_csv(\"data/rand500_indgree.csv\", sep=\"|\").set_index(\"title\")\n",
    "tp_ind  = pd.read_csv(\"data/top50_indgree.csv\").set_index(\"title\")"
   ]
  },
  {
   "cell_type": "code",
   "execution_count": 9,
   "metadata": {},
   "outputs": [
    {
     "name": "stdout",
     "output_type": "stream",
     "text": [
      "Indgree:\n",
      "    homunculus = 223.00\n",
      "    top50_avg  = 47300.40\n",
      "    rand_avg   = 65.43\n",
      "\n"
     ]
    }
   ],
   "source": [
    "print('''Indgree:\n",
    "    homunculus = %.2f\n",
    "    top50_avg  = %.2f\n",
    "    rand_avg   = %.2f\n",
    "''' %(homunculus, tp_ind.mean(), rnd_ind.mean()))"
   ]
  },
  {
   "cell_type": "code",
   "execution_count": 10,
   "metadata": {},
   "outputs": [
    {
     "data": {
      "text/plain": [
       "<matplotlib.axes._subplots.AxesSubplot at 0x10a792208>"
      ]
     },
     "execution_count": 10,
     "metadata": {},
     "output_type": "execute_result"
    },
    {
     "data": {
      "image/png": "[encoded data removed]",
      "text/plain": [
       "<matplotlib.figure.Figure at 0x10a4e0cf8>"
      ]
     },
     "metadata": {},
     "output_type": "display_data"
    }
   ],
   "source": [
    "fig, (ax1, ax2) = plt.subplots(1,2)\n",
    "plt.suptitle('indegree', fontsize=16)\n",
    "tp_ind.plot.hist(ax=ax1, title=\"top50\", color='orange')\n",
    "rnd_ind.plot.hist(ax=ax2, title=\"random500\")"
   ]
  },
  {
   "cell_type": "code",
   "execution_count": 11,
   "metadata": {},
   "outputs": [
    {
     "data": {
      "text/html": [
       "<div>\n",
       "<style scoped>\n",
       "    .dataframe tbody tr th:only-of-type {\n",
       "        vertical-align: middle;\n",
       "    }\n",
       "\n",
       "    .dataframe tbody tr th {\n",
       "        vertical-align: top;\n",
       "    }\n",
       "\n",
       "    .dataframe thead th {\n",
       "        text-align: right;\n",
       "    }\n",
       "</style>\n",
       "<table border=\"1\" class=\"dataframe\">\n",
       "  <thead>\n",
       "    <tr style=\"text-align: right;\">\n",
       "      <th></th>\n",
       "      <th>indeg</th>\n",
       "    </tr>\n",
       "    <tr>\n",
       "      <th>title</th>\n",
       "      <th></th>\n",
       "    </tr>\n",
       "  </thead>\n",
       "  <tbody>\n",
       "    <tr>\n",
       "      <th>'Soviet Union at the 1960 Summer Olympics'</th>\n",
       "      <td>1554</td>\n",
       "    </tr>\n",
       "    <tr>\n",
       "      <th>'The Lion King'</th>\n",
       "      <td>1497</td>\n",
       "    </tr>\n",
       "    <tr>\n",
       "      <th>'Drew Barrymore'</th>\n",
       "      <td>1097</td>\n",
       "    </tr>\n",
       "    <tr>\n",
       "      <th>'Capacitor'</th>\n",
       "      <td>1022</td>\n",
       "    </tr>\n",
       "    <tr>\n",
       "      <th>'Dyfed–Powys Police'</th>\n",
       "      <td>806</td>\n",
       "    </tr>\n",
       "    <tr>\n",
       "      <th>'Mike Trout'</th>\n",
       "      <td>629</td>\n",
       "    </tr>\n",
       "    <tr>\n",
       "      <th>'Pakistan Naval Academy'</th>\n",
       "      <td>553</td>\n",
       "    </tr>\n",
       "    <tr>\n",
       "      <th>'Girija Devi'</th>\n",
       "      <td>518</td>\n",
       "    </tr>\n",
       "    <tr>\n",
       "      <th>'Catteville'</th>\n",
       "      <td>482</td>\n",
       "    </tr>\n",
       "    <tr>\n",
       "      <th>'Lenexa, Kansas'</th>\n",
       "      <td>465</td>\n",
       "    </tr>\n",
       "  </tbody>\n",
       "</table>\n",
       "</div>"
      ],
      "text/plain": [
       "                                            indeg\n",
       "title                                            \n",
       "'Soviet Union at the 1960 Summer Olympics'   1554\n",
       "'The Lion King'                              1497\n",
       "'Drew Barrymore'                             1097\n",
       "'Capacitor'                                  1022\n",
       "'Dyfed–Powys Police'                          806\n",
       "'Mike Trout'                                  629\n",
       "'Pakistan Naval Academy'                      553\n",
       "'Girija Devi'                                 518\n",
       "'Catteville'                                  482\n",
       "'Lenexa, Kansas'                              465"
      ]
     },
     "execution_count": 11,
     "metadata": {},
     "output_type": "execute_result"
    }
   ],
   "source": [
    "rnd_ind.nlargest(10, 'indeg')"
   ]
  },
  {
   "cell_type": "code",
   "execution_count": 12,
   "metadata": {},
   "outputs": [
    {
     "data": {
      "text/html": [
       "<div>\n",
       "<style scoped>\n",
       "    .dataframe tbody tr th:only-of-type {\n",
       "        vertical-align: middle;\n",
       "    }\n",
       "\n",
       "    .dataframe tbody tr th {\n",
       "        vertical-align: top;\n",
       "    }\n",
       "\n",
       "    .dataframe thead th {\n",
       "        text-align: right;\n",
       "    }\n",
       "</style>\n",
       "<table border=\"1\" class=\"dataframe\">\n",
       "  <thead>\n",
       "    <tr style=\"text-align: right;\">\n",
       "      <th></th>\n",
       "      <th>indeg</th>\n",
       "    </tr>\n",
       "    <tr>\n",
       "      <th>title</th>\n",
       "      <th></th>\n",
       "    </tr>\n",
       "  </thead>\n",
       "  <tbody>\n",
       "    <tr>\n",
       "      <th>'RSCH'</th>\n",
       "      <td>0</td>\n",
       "    </tr>\n",
       "    <tr>\n",
       "      <th>'Botham'</th>\n",
       "      <td>0</td>\n",
       "    </tr>\n",
       "    <tr>\n",
       "      <th>'Ermita de San Francisco, Nàquera'</th>\n",
       "      <td>0</td>\n",
       "    </tr>\n",
       "    <tr>\n",
       "      <th>'An Empty Hug a love story'</th>\n",
       "      <td>0</td>\n",
       "    </tr>\n",
       "    <tr>\n",
       "      <th>'Kreviazuk'</th>\n",
       "      <td>0</td>\n",
       "    </tr>\n",
       "    <tr>\n",
       "      <th>'Viveiros'</th>\n",
       "      <td>0</td>\n",
       "    </tr>\n",
       "    <tr>\n",
       "      <th>'Asahara'</th>\n",
       "      <td>0</td>\n",
       "    </tr>\n",
       "    <tr>\n",
       "      <th>'Rimikhan Ziyadov'</th>\n",
       "      <td>0</td>\n",
       "    </tr>\n",
       "    <tr>\n",
       "      <th>'Xenophage'</th>\n",
       "      <td>0</td>\n",
       "    </tr>\n",
       "    <tr>\n",
       "      <th>'Priscilla Freeman Jacobs'</th>\n",
       "      <td>0</td>\n",
       "    </tr>\n",
       "  </tbody>\n",
       "</table>\n",
       "</div>"
      ],
      "text/plain": [
       "                                    indeg\n",
       "title                                    \n",
       "'RSCH'                                  0\n",
       "'Botham'                                0\n",
       "'Ermita de San Francisco, Nàquera'      0\n",
       "'An Empty Hug a love story'             0\n",
       "'Kreviazuk'                             0\n",
       "'Viveiros'                              0\n",
       "'Asahara'                               0\n",
       "'Rimikhan Ziyadov'                      0\n",
       "'Xenophage'                             0\n",
       "'Priscilla Freeman Jacobs'              0"
      ]
     },
     "execution_count": 12,
     "metadata": {},
     "output_type": "execute_result"
    }
   ],
   "source": [
    "rnd_ind.nsmallest(10, 'indeg')"
   ]
  },
  {
   "cell_type": "markdown",
   "metadata": {},
   "source": [
    "so apparently some of the pages generated by the wikipedia random article selector dont actually exist, and therfore have no links pointing to them. What has been generated from links leading away from them must be re-directs. ... what to do about this?"
   ]
  },
  {
   "cell_type": "code",
   "execution_count": 13,
   "metadata": {},
   "outputs": [
    {
     "data": {
      "text/html": [
       "<div>\n",
       "<style scoped>\n",
       "    .dataframe tbody tr th:only-of-type {\n",
       "        vertical-align: middle;\n",
       "    }\n",
       "\n",
       "    .dataframe tbody tr th {\n",
       "        vertical-align: top;\n",
       "    }\n",
       "\n",
       "    .dataframe thead th {\n",
       "        text-align: right;\n",
       "    }\n",
       "</style>\n",
       "<table border=\"1\" class=\"dataframe\">\n",
       "  <thead>\n",
       "    <tr style=\"text-align: right;\">\n",
       "      <th></th>\n",
       "      <th>indeg</th>\n",
       "    </tr>\n",
       "    <tr>\n",
       "      <th>title</th>\n",
       "      <th></th>\n",
       "    </tr>\n",
       "  </thead>\n",
       "  <tbody>\n",
       "    <tr>\n",
       "      <th>United States</th>\n",
       "      <td>462672</td>\n",
       "    </tr>\n",
       "    <tr>\n",
       "      <th>France</th>\n",
       "      <td>219355</td>\n",
       "    </tr>\n",
       "    <tr>\n",
       "      <th>United Kingdom</th>\n",
       "      <td>205651</td>\n",
       "    </tr>\n",
       "    <tr>\n",
       "      <th>Germany</th>\n",
       "      <td>185005</td>\n",
       "    </tr>\n",
       "    <tr>\n",
       "      <th>Canada</th>\n",
       "      <td>167638</td>\n",
       "    </tr>\n",
       "    <tr>\n",
       "      <th>India</th>\n",
       "      <td>166727</td>\n",
       "    </tr>\n",
       "    <tr>\n",
       "      <th>Australia</th>\n",
       "      <td>150745</td>\n",
       "    </tr>\n",
       "    <tr>\n",
       "      <th>Japan</th>\n",
       "      <td>138017</td>\n",
       "    </tr>\n",
       "    <tr>\n",
       "      <th>World War II</th>\n",
       "      <td>130265</td>\n",
       "    </tr>\n",
       "    <tr>\n",
       "      <th>Russia</th>\n",
       "      <td>118938</td>\n",
       "    </tr>\n",
       "  </tbody>\n",
       "</table>\n",
       "</div>"
      ],
      "text/plain": [
       "                 indeg\n",
       "title                 \n",
       "United States   462672\n",
       "France          219355\n",
       "United Kingdom  205651\n",
       "Germany         185005\n",
       "Canada          167638\n",
       "India           166727\n",
       "Australia       150745\n",
       "Japan           138017\n",
       "World War II    130265\n",
       "Russia          118938"
      ]
     },
     "execution_count": 13,
     "metadata": {},
     "output_type": "execute_result"
    }
   ],
   "source": [
    "tp_ind.nlargest(10, 'indeg')"
   ]
  },
  {
   "cell_type": "code",
   "execution_count": 14,
   "metadata": {},
   "outputs": [
    {
     "data": {
      "text/html": [
       "<div>\n",
       "<style scoped>\n",
       "    .dataframe tbody tr th:only-of-type {\n",
       "        vertical-align: middle;\n",
       "    }\n",
       "\n",
       "    .dataframe tbody tr th {\n",
       "        vertical-align: top;\n",
       "    }\n",
       "\n",
       "    .dataframe thead th {\n",
       "        text-align: right;\n",
       "    }\n",
       "</style>\n",
       "<table border=\"1\" class=\"dataframe\">\n",
       "  <thead>\n",
       "    <tr style=\"text-align: right;\">\n",
       "      <th></th>\n",
       "      <th>indeg</th>\n",
       "    </tr>\n",
       "    <tr>\n",
       "      <th>title</th>\n",
       "      <th></th>\n",
       "    </tr>\n",
       "  </thead>\n",
       "  <tbody>\n",
       "    <tr>\n",
       "      <th>Kim Kardashian</th>\n",
       "      <td>623</td>\n",
       "    </tr>\n",
       "    <tr>\n",
       "      <th>Mark Zuckerberg</th>\n",
       "      <td>708</td>\n",
       "    </tr>\n",
       "    <tr>\n",
       "      <th>Sex</th>\n",
       "      <td>1138</td>\n",
       "    </tr>\n",
       "    <tr>\n",
       "      <th>Selena Gomez</th>\n",
       "      <td>1200</td>\n",
       "    </tr>\n",
       "    <tr>\n",
       "      <th>The Big Bang Theory</th>\n",
       "      <td>1316</td>\n",
       "    </tr>\n",
       "    <tr>\n",
       "      <th>The Walking Dead (TV series)</th>\n",
       "      <td>1336</td>\n",
       "    </tr>\n",
       "    <tr>\n",
       "      <th>Steve Jobs</th>\n",
       "      <td>1343</td>\n",
       "    </tr>\n",
       "    <tr>\n",
       "      <th>Breaking Bad</th>\n",
       "      <td>1366</td>\n",
       "    </tr>\n",
       "    <tr>\n",
       "      <th>How I Met Your Mother</th>\n",
       "      <td>1379</td>\n",
       "    </tr>\n",
       "    <tr>\n",
       "      <th>Stephen Hawking</th>\n",
       "      <td>1422</td>\n",
       "    </tr>\n",
       "  </tbody>\n",
       "</table>\n",
       "</div>"
      ],
      "text/plain": [
       "                              indeg\n",
       "title                              \n",
       "Kim Kardashian                  623\n",
       "Mark Zuckerberg                 708\n",
       "Sex                            1138\n",
       "Selena Gomez                   1200\n",
       "The Big Bang Theory            1316\n",
       "The Walking Dead (TV series)   1336\n",
       "Steve Jobs                     1343\n",
       "Breaking Bad                   1366\n",
       "How I Met Your Mother          1379\n",
       "Stephen Hawking                1422"
      ]
     },
     "execution_count": 14,
     "metadata": {},
     "output_type": "execute_result"
    }
   ],
   "source": [
    "tp_ind.nsmallest(10, 'indeg')"
   ]
  },
  {
   "cell_type": "code",
   "execution_count": null,
   "metadata": {},
   "outputs": [],
   "source": []
  }
 ],
 "metadata": {
  "kernelspec": {
   "display_name": "Python 3",
   "language": "python",
   "name": "python3"
  },
  "language_info": {
   "codemirror_mode": {
    "name": "ipython",
    "version": 3
   },
   "file_extension": ".py",
   "mimetype": "text/x-python",
   "name": "python",
   "nbconvert_exporter": "python",
   "pygments_lexer": "ipython3",
   "version": "3.6.2"
  }
 },
 "nbformat": 4,
 "nbformat_minor": 2
}
