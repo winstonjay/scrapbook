{
 "cells": [
  {
   "cell_type": "markdown",
   "metadata": {},
   "source": [
    "# How Many Clicks Away from the Homunculus?\n",
    "\n",
    "..."
   ]
  },
  {
   "cell_type": "code",
   "execution_count": 72,
   "metadata": {},
   "outputs": [
    {
     "name": "stdout",
     "output_type": "stream",
     "text": [
      "have_cache = True\n"
     ]
    }
   ],
   "source": [
    "import sys\n",
    "import json\n",
    "import math\n",
    "import matplotlib.mlab as mlab\n",
    "import matplotlib.pyplot as plt\n",
    "import numpy as np\n",
    "from collections import Counter\n",
    "\n",
    "sys.path.append('../')\n",
    "from utils import load_file, printf\n",
    "\n",
    "# Load Min paths data between homunculus and other pages.\n",
    "def min_paths(f):\n",
    "    return {d[\"start\"]: (min(d[\"paths\"], key=len)) \n",
    "            for d in json.load(f).values()}\n",
    "\n",
    "rand100 = load_file('datasets/random100.json', min_paths)\n",
    "top50   = load_file('datasets/top50.json', min_paths)\n",
    "\n",
    "try:\n",
    "    # Load counts for the amount of links that each counts has from our cache.\n",
    "    def count_pagelinks(f):\n",
    "        'loop through cache and get number of links for each page.'\n",
    "        cache = json.load(f)\n",
    "        return Counter({k: len(v[\"links\"]) for k, v in cache.items()})\n",
    "    \n",
    "    have_cache = True\n",
    "    pagelinks = load_file('querycache.json', count_pagelinks)\n",
    "except:\n",
    "    have_cache = False\n",
    "finally:\n",
    "    printf(\"have_cache = {}\", have_cache)"
   ]
  },
  {
   "cell_type": "markdown",
   "metadata": {},
   "source": [
    "## Estimating Average path length\n",
    "\n"
   ]
  },
  {
   "cell_type": "code",
   "execution_count": 80,
   "metadata": {},
   "outputs": [
    {
     "name": "stdout",
     "output_type": "stream",
     "text": [
      "Random100:\n",
      "\tAvg len = 3.94,\n",
      "top50:\n",
      "\tAvg len = 3.48\n"
     ]
    }
   ],
   "source": [
    "def path_lens(p):   return Counter({k: len(v)-1 for k, v in p.items()})\n",
    "def avg(c):         return sum(c.values()) / len(c)\n",
    "def shortest(c, n): return c.most_common()[:-n-1:-1]\n",
    "def longest(c, n):  return c.most_common(n)\n",
    "\n",
    "rand100_lens, top50_lens = path_lens(rand100), path_lens(top50)\n",
    "\n",
    "printf(\"Random100:\\n\\tAvg len = {},\\ntop50:\\n\\tAvg len = {}\", \n",
    "       avg(rand100_lens), avg(top50_lens))"
   ]
  },
  {
   "cell_type": "code",
   "execution_count": 81,
   "metadata": {},
   "outputs": [
    {
     "data": {
      "image/png": "[encoded data removed]",
      "text/plain": [
       "<matplotlib.figure.Figure at 0x10f897c50>"
      ]
     },
     "metadata": {},
     "output_type": "display_data"
    }
   ],
   "source": [
    "x = [np.array(list(rand100_lens.values())),\n",
    "     np.array(list(top50_lens.values()) * 2)]\n",
    "n, bins, patches = plt.hist(x, 4, label=['rand100', 'top50'])\n",
    "plt.legend(prop={'size': 10})\n",
    "plt.axis([0, 7, 0, 90])\n",
    "plt.show()"
   ]
  },
  {
   "cell_type": "markdown",
   "metadata": {},
   "source": [
    "### Errors in Bi-Directional Search.\n",
    "\n",
    "So using the bi-directional search there will be cases where the optimal path isn't chosen. Because of this there is the possibility that the estimate will be slightly shorter. Having a look around I couldn't find a function to claculate the maximum possible error in a bi-directional search so I thought I would try and implement one based on my search implementation. Its probally not even worth doing because other factors like having such a small sample size etc will probally have a bigger effect on the results here, maybe maybe not I don't know. "
   ]
  },
  {
   "cell_type": "code",
   "execution_count": 82,
   "metadata": {},
   "outputs": [
    {
     "name": "stdout",
     "output_type": "stream",
     "text": [
      "all tests pass\n"
     ]
    }
   ],
   "source": [
    "# some sample data that has been hand counted.\n",
    "depth = range(13)\n",
    "min_d = [0, 1, 2, 3, 3, 3, 4, 4, 5, 5, 6,  6,  7]\n",
    "err   = [0, 0, 0, 0, 1, 2, 2, 3, 3, 4, 4,  5,  5]\n",
    "\n",
    "def err_fn(x): return ((x + 1) >> 1) - 1 if x > 3 else 0\n",
    "\n",
    "def test_err_fn():\n",
    "    e = False\n",
    "    for d in depth:\n",
    "        try: \n",
    "            assert err[d] == err_fn(d)\n",
    "        except:\n",
    "            e = True\n",
    "            printf(\"Error: fn({}) == {:.2f}, got={:.2f}\",\n",
    "                   d, err[d], err_fn(d))\n",
    "    if not e:\n",
    "        print(\"all tests pass\")\n",
    "test_err_fn()"
   ]
  },
  {
   "cell_type": "markdown",
   "metadata": {},
   "source": [
    "With this function we can get the possible range of the path lengths. We will just use the `rand100` sampel this time though. "
   ]
  },
  {
   "cell_type": "code",
   "execution_count": 83,
   "metadata": {},
   "outputs": [
    {
     "data": {
      "text/plain": [
       "3.47"
      ]
     },
     "execution_count": 83,
     "metadata": {},
     "output_type": "execute_result"
    }
   ],
   "source": [
    "sample = list(rand100_lens.values())\n",
    "sum((s + (s - err_fn(s))) / 2 for s in sample) / len(sample)"
   ]
  },
  {
   "cell_type": "markdown",
   "metadata": {},
   "source": [
    "### Shortest 5 paths in top 50 pages Sample"
   ]
  },
  {
   "cell_type": "code",
   "execution_count": 93,
   "metadata": {},
   "outputs": [
    {
     "name": "stdout",
     "output_type": "stream",
     "text": [
      "(2) Sex -> Homunculus:\n",
      "\tSex,\n",
      "\tSperm,\n",
      "\tHomunculus\n",
      "\n",
      "(3) United States -> Homunculus:\n",
      "\tUnited States,\n",
      "\tWestern culture,\n",
      "\tHistory of chemistry,\n",
      "\tHomunculus\n",
      "\n",
      "(3) United Kingdom -> Homunculus:\n",
      "\tUnited Kingdom,\n",
      "\tUniversity College London,\n",
      "\tRaymond Briggs,\n",
      "\tHomunculus\n",
      "\n",
      "(3) The Walking Dead (TV series) -> Homunculus:\n",
      "\tThe Walking Dead (TV series),\n",
      "\tThe Librarian: Curse of the Judas Chalice,\n",
      "\tPhilosopher's stone,\n",
      "\tHomunculus\n",
      "\n",
      "(3) The Big Bang Theory -> Homunculus:\n",
      "\tThe Big Bang Theory,\n",
      "\tThe Lord of the Rings,\n",
      "\tElemental,\n",
      "\tHomunculus\n",
      "\n"
     ]
    }
   ],
   "source": [
    "for k, v in shortest(top50_lens, 5):\n",
    "    printf(\"({}) {} -> Homunculus:\\n\\t{}\\n\",\n",
    "           v, k, \",\\n\\t\".join(top50[k]))"
   ]
  },
  {
   "cell_type": "code",
   "execution_count": 87,
   "metadata": {},
   "outputs": [
    {
     "name": "stdout",
     "output_type": "stream",
     "text": [
      "[('Bill Mundy (baseball)', 5), ('Iowa and St. Louis Railway', 5), ('Ricky Tosso', 5), ('Rosane Kirch', 5), ('Vermont 100 Mile Endurance Run', 5)]\n",
      "[('The Heritage Press', 3), ('Sophronica subdivisa', 3), ('Science-Fantasy Quintette', 3), ('Saishō-ji', 3), ('RPWL', 3)]\n"
     ]
    }
   ],
   "source": [
    "print(longest(rand100_lens, 5))\n",
    "print(shortest(rand100_lens, 5))"
   ]
  },
  {
   "cell_type": "markdown",
   "metadata": {},
   "source": [
    "### Comaring to Watts–Strogatz model estimation.\n",
    "\n",
    "The Watts-Strogatz model is a super simple model for generating and calculating characteristics in graphs that exhibit small world characteristics. Being so simple to calculate the average path length it makes a easy comparison. The formula for this in a random graph is as follows:\n",
    "$\\ell \\approx \\frac{\\ln N}{\\ln K}$. Where `K` = average number of neighbours for each node and `N` = number of nodes. \n",
    "\n",
    "We can get N from https://en.wikipedia.org/wiki/Wikipedia:Size_of_Wikipedia which is currently 5509358 (11/11/2017)"
   ]
  },
  {
   "cell_type": "code",
   "execution_count": 50,
   "metadata": {},
   "outputs": [
    {
     "name": "stdout",
     "output_type": "stream",
     "text": [
      "Where:\n",
      "\tN = 5509358,\n",
      "\tK = 121.74\n",
      "\n",
      "path len = 3.23\n"
     ]
    }
   ],
   "source": [
    "if have_cache:\n",
    "    N, K = 5509358, avg(pagelinks)\n",
    "    WS = math.log(N) / math.log(K)\n",
    "    printf(\"Where:\\n\\tN = {},\\n\\tK = {:.2f}\\n\\npath len = {:.2f}\", N, K, WS)\n",
    "else: \n",
    "    print(\"Need querycahe.json file\")"
   ]
  }
 ],
 "metadata": {
  "kernelspec": {
   "display_name": "Python 3",
   "language": "python",
   "name": "python3"
  },
  "language_info": {
   "codemirror_mode": {
    "name": "ipython",
    "version": 3
   },
   "file_extension": ".py",
   "mimetype": "text/x-python",
   "name": "python",
   "nbconvert_exporter": "python",
   "pygments_lexer": "ipython3",
   "version": "3.6.2"
  }
 },
 "nbformat": 4,
 "nbformat_minor": 2
}
