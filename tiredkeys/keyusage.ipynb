{
 "cells": [
  {
   "cell_type": "markdown",
   "metadata": {},
   "source": [
    "# Task\n",
    "\n",
    "YOUR CHRISTMAS PROJECT IS NOT THE BRIEF FOR NEXT TERM. YOUR CHRISTMAS PROJECT CAN BE FOUND IN THE WORKSHEET FOR WEEK11.\n",
    "\n",
    "### THIS IS WHAT YOU MUST DO IN YOUR GROUPS FOR NEXT TERM:\n",
    "\n",
    "Use your smartphones to map a space in your group in order to ‘know’ it differently. It can be any space. In order to think about knowing it differently, you need to first consider how you think it is already ‘known’ and why and how. We are thinking about the theme of power and control and we want you to particularly think about how you might explore this theme.\n",
    "\n",
    "### What you need to do:\n",
    "\n",
    "1. Decide on the space: why this space? What does it mean to you and the group?\n",
    "2. Explore it together: how have you explored it? What are your initial thoughts and reflections? Why?\n",
    "3. Decide on what you agree the dominant ways the space is controlled and perceived are. Why, what evidence?\n",
    "    Decide how you will map it and why: you might need to explore some of the reading here. What new ways of knowing will this offer? Why? How?\n",
    "4. Map the space\n",
    "    Mapping and collating data about this space incorporates all the technical skills and issues we have touched on in this module so far. In your decisions about how and why and then in your decisions about how to best present, you can use these critical, and practical skills we have engaged with.\n",
    "\n",
    "6.    Reflect on and critically consider your results (like with the critical listening exercise): what do you now know about this space from your findings that you didn’t know before? What can you know only from what you have created? What do we still not know?\n",
    "\n",
    "7.    Present these stages of your project on your websites. Choose one hosting site for the team and detail these stages in a creative and critical way. How will you present your data and why?\n",
    "\n",
    "8.    Come with a 15 minute presentation for when we return form the holidays: week beginning 22nd January. You will have a practice run of presenting as a team!"
   ]
  },
  {
   "cell_type": "markdown",
   "metadata": {},
   "source": [
    "# Response: a used keyboard matt"
   ]
  },
  {
   "cell_type": "markdown",
   "metadata": {},
   "source": [
    "Thinking about alternative ways of collecting and mapping data, I wanted to see what I could learn from random everyday objects. Noticing my keyboard matt had seen better days, I thought that through the wear on particular keys connections could be made in relation to language and its interfacing with computers. This isnt really using a smartphone like the breif asks, but it thought this might be an alright window between the digital and physical. Here is a picture of it:\n",
    "\n",
    "<img width=\"600\" style=\"display:inline-block;\" src=\"img/keyboard.jpg\">"
   ]
  },
  {
   "cell_type": "markdown",
   "metadata": {},
   "source": [
    "### Key Use: General Observations.\n",
    "\n",
    "* Apple British English keyboard.\n",
    "* More likley to use forward arrow than backward arrow.\n",
    "* Most used keys seem to be (alphabetic keys in perceived order): \n",
    "```\n",
    "SPACE, BACKSPACE, SHIFT, ENTER, CMD, \n",
    "t, s, e, r, c, a, n, l, o, i, \n",
    "LEFT, UP, DOWN, RIGHT\n",
    "```\n",
    "* Good portion of most used functional rather than linguistic.\n",
    "* As a guess: most used Alphabetic keys relate to shortcut use insted of use within language.\n",
    "* `U` is the only vowel not included in the most used keys."
   ]
  },
  {
   "cell_type": "markdown",
   "metadata": {},
   "source": [
    "### Data Collection Strategy\n",
    "\n",
    "To gain more info from the keyboard I wanted to try and quantify the key wear of each key. At high level this was done by converting key images into arrays of pixel data then summing each one to produce a score. In single 8 bit pixel data (monochromatic) each pixel can be 0-255 (black->white), as keyboard wear increasea, the amount of white does also. Therefore as reasonable an estimate; in the higher the pixel sum the more wear on the key.\n",
    "\n",
    "To make the images I made another scan of the key-matt pictured above but from the other side so it would block out most of the key text. After this, I converted the image into a black and white threshold image with photoshop. This was to reduce the amount of dimensions needed to represent the image numerically and also to maximise the visual differences between squares by visually selecting an optimal setting for the threshold: [Edited keyboard](img/bw_keyboard.jpg)."
   ]
  },
  {
   "cell_type": "markdown",
   "metadata": {},
   "source": [
    "After Using only the equally sized alphanumeric style keys I sliced and saved each key into equally sized png files, these can be found in `data/imgs/`. \n",
    "\n",
    "Here is `Q W E R T Y` from the keyboard.\n",
    "\n",
    "<img style=\"display:inline;\" src=\"data/imgs/q.png\">\n",
    "<img style=\"display:inline;\" src=\"data/imgs/w.png\">\n",
    "<img style=\"display:inline;\" src=\"data/imgs/e.png\">\n",
    "<img style=\"display:inline;\" src=\"data/imgs/r.png\">\n",
    "<img style=\"display:inline;\" src=\"data/imgs/t.png\">\n",
    "<img style=\"display:inline;\" src=\"data/imgs/y.png\">\n",
    "\n",
    "for future technical reference, after doing this. a maybe better way to map the pixel data is as foreach: $\\normalsize \\frac{pixel-128}{128}$, this will give a better data distibution around 0 with values ranging from `-1` to `1`. addvice from some machine learning course."
   ]
  },
  {
   "cell_type": "code",
   "execution_count": 10,
   "metadata": {},
   "outputs": [],
   "source": [
    "# Import modules and functions to be used later here.\n",
    "import pandas as pd\n",
    "import matplotlib.pyplot as plt\n",
    "plt.rcParams[\"figure.figsize\"] = (14,6)\n",
    "\n",
    "def normalise(col):\n",
    "    \"min max normalisation\"\n",
    "    return (col - col.min()) / (col.max() - col.min())\n",
    "\n",
    "def sorted_plot(df, **kwargs):\n",
    "    \"sort then plot dataframe\"\n",
    "    df = df.sort_values(\"n\", ascending=True)\n",
    "    df.plot(kind=\"barh\",\n",
    "            xlim=(-1,1) if (df.min(axis=1) < 0).any() else (0,1), \n",
    "            **kwargs)"
   ]
  },
  {
   "cell_type": "markdown",
   "metadata": {},
   "source": [
    "### Load Data\n",
    "\n",
    "With the new data generated we want to make some comparisons with other data sets, The main one was to see how the keyboard use compares with general english language use. Here are the data details.\n",
    "\n",
    "* **Key Use** (data/keyscores.csv): `preprocces.py` script converted all the .png in `data/imgs/` to single CSV.\n",
    "* **English Use** (data/unigrams.csv): English language letter use collected by google (original source: http://norvig.com/mayzner.html : 'Google books Ngrams raw data set, which gives word counts of the number of times each word is mentioned (broken down by year of publication) in the books that have been scanned by Google.' -> [google ngrams](http://storage.googleapis.com/books/ngrams/books/datasetsv2.html))."
   ]
  },
  {
   "cell_type": "code",
   "execution_count": 11,
   "metadata": {},
   "outputs": [],
   "source": [
    "# scores from keyboard usage.\n",
    "ks = pd.read_csv(\"data/keyscores.csv\").set_index(\"key\")\n",
    "\n",
    "# letter usage from a google dataset of ngrams\n",
    "alpha = normalise(pd.read_csv(\"data/unigrams.csv\").set_index(\"key\"))"
   ]
  },
  {
   "cell_type": "markdown",
   "metadata": {},
   "source": [
    "### Checking the dataset against visual observations.\n",
    "\n",
    "I realise the data I generated isnt perfect and wont get a completely accurate measure of the amount of wear on the keys but I feel its good enough for now within this little experiment. Now the data is loaded we can have a quick check how it compares to my visual analysis. I said before the most worn alphabetic letters (in-order) were: `t, s, e, r, c, a, n, l, o, i` (see if you agree). If I get nlargest from my newly created data I get the following."
   ]
  },
  {
   "cell_type": "code",
   "execution_count": 12,
   "metadata": {},
   "outputs": [
    {
     "name": "stdout",
     "output_type": "stream",
     "text": [
      "          n\n",
      "key        \n",
      "s    982939\n",
      "e    935900\n",
      "r    930848\n",
      "a    917225\n",
      "c    916879\n",
      "t    890404\n",
      "o    831948\n",
      "1    795902\n",
      "i    763926\n",
      "n    750222\n"
     ]
    }
   ],
   "source": [
    "print(ks.nlargest(10, 'n'))"
   ]
  },
  {
   "cell_type": "markdown",
   "metadata": {},
   "source": [
    "So the top 10 are exactly the same just in a slightly different order. Looking at the actual matt again and holding it to a light this order seems equally reasonable, I dont really know either way but again its good enough for now. "
   ]
  },
  {
   "cell_type": "markdown",
   "metadata": {},
   "source": [
    "### Key Use: Quantified\n",
    "\n",
    "Without quantifing the data you can argue the most used keys are: `shift` and `⌘` (cmd), then probally `space` or `enter`. With it hopefully we can make some comparisons with how english language is used generally.\n",
    "\n",
    "To see this i'll just plot data from key use, english use, english use - key use and a absolute value from the last.\n"
   ]
  },
  {
   "cell_type": "code",
   "execution_count": 13,
   "metadata": {},
   "outputs": [
    {
     "data": {
      "image/png": "[encoded data removed]",
      "text/plain": [
       "<matplotlib.figure.Figure at 0x10a797668>"
      ]
     },
     "metadata": {},
     "output_type": "display_data"
    }
   ],
   "source": [
    "fig, (ax1, ax2, ax3, ax4) = plt.subplots(1,4)\n",
    "\n",
    "ks_al = normalise(ks[ks.index.isin(alpha.index)]) # get only a-z keyscores\n",
    "diff  = ks_al.sub(alpha)                          # get normalised abs diff between eng & keys.\n",
    "d_abs = diff.abs()\n",
    "\n",
    "sorted_plot(ks_al, ax=ax1, title=\"Key Use\")\n",
    "sorted_plot(alpha, ax=ax2, title=\"English Use\",                color=\"green\")\n",
    "sorted_plot(diff,  ax=ax3, title=\"Key Use - English Use\",      color=\"orange\")\n",
    "sorted_plot(d_abs, ax=ax4, title=\"abs(Key Use - English Use)\", color=\"purple\")\n",
    "# plt.savefig(\"data/fig1.png\")"
   ]
  },
  {
   "cell_type": "markdown",
   "metadata": {},
   "source": [
    "Even though there is the odd caveat, the keys with the highest absolute difference generally seem to be short-cut keys. I did think this before, so it seems to validate the data as much as it did my hypothesis. Here is a annotation of the top 10 and keyboard short-cuts I can think of off the top of my head:\n",
    "\n",
    "    1.  C    ⌘C       copy         (system wide)\n",
    "             ctrl-C    interupt     (terminal)\n",
    "    2.  S    ⌘S       save         (system wide)\n",
    "             shift-⌘S save         (system wide)\n",
    "    3.  R    ⌘R       refresh      (webrowsers)\n",
    "             shift-⌘R hard-refresh (webrowsers)\n",
    "    4.  V    ⌘V       paste        (system wide)\n",
    "    5.  F    ⌘F       find         (system wide)    <- home key\n",
    "    6.  W    ⌘W       window close (system wide)\n",
    "    7.  A    ⌘A       select all   (system wide)\n",
    "    8.  Z    ⌘Z       undo         (system wide)\n",
    "    9.  J    ???       ? no idea                     <- home key\n",
    "    10. X    ⌘X       cut          (system wide)\n",
    "\n",
    "Only a few (9, 10) am I not convinced about. \n",
    "\n",
    "There are some differences in what is being typed as im not writing google books of course."
   ]
  },
  {
   "cell_type": "markdown",
   "metadata": {},
   "source": [
    "### Relation to programing langauges?\n",
    "\n",
    "As the letter use is different to english by 17%(avg), another reason for this could be that the majority of what I type is not written like a book and insted in context free programing langauges. I thoight id get a sample from a large directory of python and c/cpp files on my computer to see how they might compare. \n",
    "\n",
    "Used this command to do so:\n",
    "\n",
    "    grep [a-zA-Z0-9] -o . -hr \\\n",
    "    --exclude-dir={env,build,bin,dist} \\\n",
    "    --include=\\*.{c,cc,cpp,h,py} \\\n",
    "    | sort -f | uniq -ic > out.txt\n",
    "    \n",
    "The eventual sample was smaller than I hoped but still a couple hundred files worth of alphanumeric character counts. I had to keep downsizing the search space because it was taking to long and I got bored. Anyway now we can load this and compare with the other samples."
   ]
  },
  {
   "cell_type": "code",
   "execution_count": 19,
   "metadata": {},
   "outputs": [
    {
     "data": {
      "image/png": "[encoded data removed]",
      "text/plain": [
       "<matplotlib.figure.Figure at 0x10ac5a6a0>"
      ]
     },
     "metadata": {},
     "output_type": "display_data"
    }
   ],
   "source": [
    "progs = pd.read_csv(\"data/prog_letters.csv\").set_index(\"key\")\n",
    "proAZ = normalise(progs[progs.index.isin(alpha.index)])\n",
    "\n",
    "fig, (ax1, ax2, ax3, ax4) = plt.subplots(1,4)\n",
    "\n",
    "ks_p_diff = ks_al.sub(proAZ)\n",
    "al_p_diff = alpha.sub(proAZ)\n",
    "\n",
    "sorted_plot(proAZ,     ax=ax1, title=\"Prog Use\",           color=\"red\")\n",
    "sorted_plot(ks_p_diff, ax=ax2, title=\"Key use - prog use\", color=\"cyan\")\n",
    "sorted_plot(diff,      ax=ax3, title=\"Key use - Eng use\",  color=\"orange\")\n",
    "sorted_plot(al_p_diff, ax=ax4, title=\"Eng use - prog use\", color=\"magenta\")\n",
    "# plt.savefig(\"data/fig2.png\")"
   ]
  },
  {
   "cell_type": "markdown",
   "metadata": {},
   "source": [
    "Looking at the graphs you can see that similar letter patterns reoccur comparing eng and prog to key use. These reoccurances seem to point to key shortcuts again. comparing english and progamming languages seems more balanced, maybe comments in source code even it out. Interestingly the `h` in key-eng seems to appear at the other end of the scale when comparisons are made in eng-prog."
   ]
  },
  {
   "cell_type": "code",
   "execution_count": 14,
   "metadata": {},
   "outputs": [
    {
     "name": "stdout",
     "output_type": "stream",
     "text": [
      "\n",
      "Avg Abs Differences:\n",
      "    Key-Eng  = 0.1728\n",
      "    Key-Prog = 0.1675\n",
      "    Eng-Prog = 0.0474\n",
      "\n"
     ]
    }
   ],
   "source": [
    "print(\"\"\"\n",
    "Avg Abs Differences:\n",
    "    Key-Eng  = %.4f\n",
    "    Key-Prog = %.4f\n",
    "    Eng-Prog = %.4f\n",
    "\"\"\" % (d_abs.mean(), ks_p_diff.abs().mean(), al_p_diff.abs().mean()))"
   ]
  },
  {
   "cell_type": "markdown",
   "metadata": {},
   "source": [
    "## Summary\n",
    "\n"
   ]
  }
 ],
 "metadata": {
  "kernelspec": {
   "display_name": "Python 3",
   "language": "python",
   "name": "python3"
  },
  "language_info": {
   "codemirror_mode": {
    "name": "ipython",
    "version": 3
   },
   "file_extension": ".py",
   "mimetype": "text/x-python",
   "name": "python",
   "nbconvert_exporter": "python",
   "pygments_lexer": "ipython3",
   "version": "3.6.2"
  }
 },
 "nbformat": 4,
 "nbformat_minor": 2
}
